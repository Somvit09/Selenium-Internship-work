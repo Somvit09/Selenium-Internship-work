{
 "cells": [
  {
   "cell_type": "code",
   "execution_count": 35,
   "id": "0deb38ca",
   "metadata": {},
   "outputs": [],
   "source": [
    "import time, json\n",
    "from selenium import webdriver\n",
    "from selenium.webdriver.common.by import By\n",
    "from selenium.webdriver.chrome.service import Service"
   ]
  },
  {
   "cell_type": "code",
   "execution_count": 36,
   "id": "04e0cbed",
   "metadata": {},
   "outputs": [],
   "source": [
    "endpoint = 'https://collegedunia.com/usa/college/1090-harvard-university-cambridge'"
   ]
  },
  {
   "cell_type": "code",
   "execution_count": 37,
   "id": "d901b786",
   "metadata": {},
   "outputs": [],
   "source": [
    "driver_path = Service('chromedriver.exe')\n",
    "driver = webdriver.Chrome(service=driver_path)\n",
    "driver.get(endpoint)"
   ]
  },
  {
   "cell_type": "code",
   "execution_count": 38,
   "id": "3953b334",
   "metadata": {},
   "outputs": [],
   "source": [
    "# title and Veda_Burman name scraping\n",
    "title = driver.find_element(By.XPATH, '//*[@id=\"__next\"]/div[2]/header/div[2]/div/div[1]/h1').text\n",
    "Veda_Burman = driver.find_element(By.LINK_TEXT, 'Veda Burman').text"
   ]
  },
  {
   "cell_type": "code",
   "execution_count": 39,
   "id": "b9de626c",
   "metadata": {},
   "outputs": [],
   "source": [
    "# read more button\n",
    "read_more = driver.find_element(By.XPATH, '//*[@id=\"__next\"]/div[2]/section/div/div[1]/div[3]/div[1]/div/div[1]/div/div[2]/div[2]')\n",
    "read_more.click()"
   ]
  },
  {
   "cell_type": "code",
   "execution_count": 40,
   "id": "d1831c60",
   "metadata": {},
   "outputs": [],
   "source": [
    "# Veda_Burman acknowledgement\n",
    "info_of_veda1 = driver.find_element(By.XPATH, '//*[@id=\"__next\"]/div[2]/section/div/div[1]/div[3]/div[1]/div/div[1]/div/div[2]/div[1]/div/div/p[1]').text\n",
    "info_of_veda2 = driver.find_element(By.XPATH, '//*[@id=\"__next\"]/div[2]/section/div/div[1]/div[3]/div[1]/div/div[1]/div/div[2]/div[1]/div/div/p[2]').text\n",
    "info_of_veda3 = driver.find_element(By.XPATH, '//*[@id=\"__next\"]/div[2]/section/div/div[1]/div[3]/div[1]/div/div[1]/div/div[2]/div[1]/div/div/p[3]').text\n",
    "info_of_veda = info_of_veda1 + \"\\n\" + info_of_veda2 + \"\\n\" + info_of_veda3"
   ]
  },
  {
   "cell_type": "code",
   "execution_count": 41,
   "id": "1c77dfb9",
   "metadata": {},
   "outputs": [],
   "source": [
    "# ranking\n",
    "ranking = driver.find_element(By.ID, 'Harvard_Ranking').text\n",
    "ranking_description1 = driver.find_element(By.XPATH, '//*[@id=\"__next\"]/div[2]/section/div/div[1]/div[3]/div[1]/div/div[1]/div/div[2]/div[1]/div/div/div[2]/p[1]').text\n",
    "ranking_description2 = driver.find_element(By.XPATH, '//*[@id=\"__next\"]/div[2]/section/div/div[1]/div[3]/div[1]/div/div[1]/div/div[2]/div[1]/div/div/div[2]/ul').text\n",
    "ranking_description3 = driver.find_element(By.XPATH, '//*[@id=\"__next\"]/div[2]/section/div/div[1]/div[3]/div[1]/div/div[1]/div/div[2]/div[1]/div/div/div[2]/p[2]').text\n",
    "ranking_description = ranking_description1 + \"\\n\" + ranking_description2 + \"\\n\" + ranking_description3"
   ]
  },
  {
   "cell_type": "code",
   "execution_count": 42,
   "id": "334987ab",
   "metadata": {},
   "outputs": [],
   "source": [
    "# comparisons\n",
    "comparisons = {}\n",
    "for h in range(1, 4):\n",
    "    b = f'//*[@id=\"__next\"]/div[2]/section/div/div[1]/div[3]/div[1]/div/div[1]/div/div[2]/div[1]/div/div/div[2]/div[1]/table/tbody/tr/td[{h}]/a'\n",
    "    comparison = driver.find_element(By.XPATH, b)\n",
    "    comparisons[comparison.text] = comparison.get_attribute('href')"
   ]
  },
  {
   "cell_type": "code",
   "execution_count": 43,
   "id": "641c9529",
   "metadata": {},
   "outputs": [],
   "source": [
    "# checkout\n",
    "checkout_spanish = driver.find_element(By.LINK_TEXT, 'Harvard University (Spanish)').get_attribute('href')\n",
    "harvard_spanish = {'Harvard University (Spanish)': checkout_spanish}"
   ]
  },
  {
   "cell_type": "code",
   "execution_count": 44,
   "id": "2afa3d92",
   "metadata": {},
   "outputs": [],
   "source": [
    "# ranking comparison subjectwise\n",
    "ranking_comparison_description = driver.find_element(By.XPATH, '//*[@id=\"__next\"]/div[2]/section/div/div[1]/div[3]/div[1]/div/div[1]/div/div[2]/div[1]/div/div/div[2]/p[4]').text\n",
    "ranking_comparison = driver.find_element(By.XPATH, '//*[@id=\"__next\"]/div[2]/section/div/div[1]/div[3]/div[1]/div/div[1]/div/div[2]/div[1]/div/div/div[2]/div[2]').text"
   ]
  },
  {
   "cell_type": "code",
   "execution_count": 45,
   "id": "dabb0c41",
   "metadata": {},
   "outputs": [],
   "source": [
    "# courses\n",
    "course_description = driver.find_element(By.CLASS_NAME, 'cdcms_courses').text"
   ]
  },
  {
   "cell_type": "code",
   "execution_count": 46,
   "id": "95b4edf3",
   "metadata": {},
   "outputs": [],
   "source": [
    "# Top programs\n",
    "program_title = driver.find_element(By.XPATH, '//*[@id=\"__next\"]/div[2]/section/div/div[1]/div[3]/div[1]/div/div[1]/div/div[2]/div[1]/div/div/div[4]/h3').text\n",
    "top_courses = []\n",
    "for i in range(1, 13):\n",
    "    xpath = f'//*[@id=\"table-body\"]/tr[{i}]'\n",
    "    a = driver.find_element(By.XPATH, xpath)\n",
    "    top_courses.append(a.text)"
   ]
  },
  {
   "cell_type": "code",
   "execution_count": 47,
   "id": "5257c93c",
   "metadata": {},
   "outputs": [],
   "source": [
    "# university international students enrollment\n",
    "enrollment_title = driver.find_element(By.ID, 'Enrollments').text\n",
    "enrollment = driver.find_element(By.XPATH, '//*[@id=\"__next\"]/div[2]/section/div/div[1]/div[3]/div[1]/div/div[1]/div/div[2]/div[1]/div/div/p[5]').text\n",
    "enrollment_img = driver.find_element(By.XPATH, '//*[@id=\"__next\"]/div[2]/section/div/div[1]/div[3]/div[1]/div/div[1]/div/div[2]/div[1]/div/div/div[5]/img').get_attribute('data-src')"
   ]
  },
  {
   "cell_type": "code",
   "execution_count": 48,
   "id": "2ae420fc",
   "metadata": {},
   "outputs": [],
   "source": [
    "# Admission\n",
    "admission_title = driver.find_element(By.ID, 'Admission').text\n",
    "admission_details = driver.find_element(By.XPATH, '//*[@id=\"__next\"]/div[2]/section/div/div[1]/div[3]/div[1]/div/div[1]/div/div[2]/div[1]/div/div/p[7]').text\n",
    "portals = []\n",
    "for j in range(1, 4):\n",
    "    x_path = f'//*[@id=\"__next\"]/div[2]/section/div/div[1]/div[3]/div[1]/div/div[1]/div/div[2]/div[1]/div/div/div[6]/p[2]/a[{j}]'\n",
    "    admission_portal = driver.find_element(By.XPATH, x_path)\n",
    "    portals.append(admission_portal.get_attribute('href'))\n",
    "admission_deadlines = driver.find_element(By.XPATH, '//*[@id=\"__next\"]/div[2]/section/div/div[1]/div[3]/div[1]/div/div[1]/div/div[2]/div[1]/div/div/div[6]/div[1]/table').text"
   ]
  },
  {
   "cell_type": "code",
   "execution_count": 49,
   "id": "b7b678de",
   "metadata": {},
   "outputs": [],
   "source": [
    "# Admission Requirements\n",
    "requirements_title = driver.find_element(By.ID, 'Requirements').text\n",
    "requirements_data = driver.find_element(By.XPATH, '//*[@id=\"__next\"]/div[2]/section/div/div[1]/div[3]/div[1]/div/div[1]/div/div[2]/div[1]/div/div/div[6]/div[2]/table').text"
   ]
  },
  {
   "cell_type": "code",
   "execution_count": 50,
   "id": "19294318",
   "metadata": {},
   "outputs": [],
   "source": [
    "# other links [Also CHeck]\n",
    "links = {}\n",
    "for k in range(1, 4):\n",
    "    a = f'//*[@id=\"__next\"]/div[2]/section/div/div[1]/div[3]/div[1]/div/div[1]/div/div[2]/div[1]/div/div/div[6]/ul/li[{k}]/a'\n",
    "    link = driver.find_element(By.XPATH, a)\n",
    "    links[link.text] = link.get_attribute('href')"
   ]
  },
  {
   "cell_type": "code",
   "execution_count": 51,
   "id": "adb3801b",
   "metadata": {},
   "outputs": [],
   "source": [
    "# campus\n",
    "campus_title = driver.find_element(By.ID, 'Campus_Accommodation').text\n",
    "campus_description = ''\n",
    "for g in range(1, 5):\n",
    "    xpat_h = f'//*[@id=\"__next\"]/div[2]/section/div/div[1]/div[3]/div[1]/div/div[1]/div/div[2]/div[1]/div/div/div[7]/p[{g}]'\n",
    "    campus_description += driver.find_element(By.XPATH, xpat_h).text\n"
   ]
  },
  {
   "cell_type": "code",
   "execution_count": 52,
   "id": "26d910db",
   "metadata": {},
   "outputs": [],
   "source": [
    "# accommodation\n",
    "accommodation_title = driver.find_element(By.ID, 'Housing_Residence').text\n",
    "accommodation_description = driver.find_element(By.XPATH, '//*[@id=\"__next\"]/div[2]/section/div/div[1]/div[3]/div[1]/div/div[1]/div/div[2]/div[1]/div/div/div[7]/p[5]').text\n",
    "on_campus_residence = driver.find_element(By.XPATH, '//*[@id=\"__next\"]/div[2]/section/div/div[1]/div[3]/div[1]/div/div[1]/div/div[2]/div[1]/div/div/div[7]/ul[1]').text\n",
    "off_campus_residence = driver.find_element(By.XPATH, '//*[@id=\"__next\"]/div[2]/section/div/div[1]/div[3]/div[1]/div/div[1]/div/div[2]/div[1]/div/div/div[7]/ul[2]').text"
   ]
  },
  {
   "cell_type": "code",
   "execution_count": 53,
   "id": "9fa909ae",
   "metadata": {},
   "outputs": [],
   "source": [
    "# cost of attendance\n",
    "attendance_title = driver.find_element(By.ID, 'Cost_Attendance').text\n",
    "fee_structure1 = driver.find_element(By.XPATH, '//*[@id=\"__next\"]/div[2]/section/div/div[1]/div[3]/div[1]/div/div[1]/div/div[2]/div[1]/div/div/div[7]/div[1]/div[1]/table').text\n",
    "fee_structure2 = driver.find_element(By.XPATH, '//*[@id=\"__next\"]/div[2]/section/div/div[1]/div[3]/div[1]/div/div[1]/div/div[2]/div[1]/div/div/div[7]/div[1]/div[2]/table').text"
   ]
  },
  {
   "cell_type": "code",
   "execution_count": 54,
   "id": "61038524",
   "metadata": {},
   "outputs": [],
   "source": [
    "# scholarships\n",
    "scholarship_title = driver.find_element(By.ID, 'Harvard_Scholarship').text\n",
    "scholarship_description = ''\n",
    "for i in range(1, 4):\n",
    "    x = f'//*[@id=\"__next\"]/div[2]/section/div/div[1]/div[3]/div[1]/div/div[1]/div/div[2]/div[1]/div/div/div[7]/div[2]/p[{i}]'\n",
    "    scholarship_description += driver.find_element(By.XPATH, x).text\n",
    "scholarship_description += '\\n' + driver.find_element(By.XPATH, '//*[@id=\"__next\"]/div[2]/section/div/div[1]/div[3]/div[1]/div/div[1]/div/div[2]/div[1]/div/div/div[7]/div[2]/div').text + '\\n' +driver.find_element(By.XPATH, '//*[@id=\"__next\"]/div[2]/section/div/div[1]/div[3]/div[1]/div/div[1]/div/div[2]/div[1]/div/div/div[7]/div[2]/p[5]').text + '\\n' +driver.find_element(By.XPATH, '//*[@id=\"__next\"]/div[2]/section/div/div[1]/div[3]/div[1]/div/div[1]/div/div[2]/div[1]/div/div/div[7]/div[2]/ul').text\n",
    "scholarship_link = driver.find_element(By.LINK_TEXT,'Scholarships in USA')\n",
    "scholarship_description += f' {scholarship_link.text} in {scholarship_link.get_attribute(\"href\")}.'"
   ]
  },
  {
   "cell_type": "code",
   "execution_count": 55,
   "id": "d9695688",
   "metadata": {},
   "outputs": [],
   "source": [
    "# alumni\n",
    "alumni_title = driver.find_element(By.ID, 'Alumni_Network').text\n",
    "alumni_description = driver.find_element(By.XPATH, '//*[@id=\"__next\"]/div[2]/section/div/div[1]/div[3]/div[1]/div/div[1]/div/div[2]/div[1]/div/div/div[7]/div[3]').text\n",
    "alumni_description += \" in  \" + driver.find_element(By.LINK_TEXT, 'Harvard University Student Profile').get_attribute('href')"
   ]
  },
  {
   "cell_type": "code",
   "execution_count": 56,
   "id": "1ac9bf62",
   "metadata": {},
   "outputs": [],
   "source": [
    "# placements\n",
    "placement_title = driver.find_element(By.ID, 'Harvard_Placements').text\n",
    "placement_description = ''\n",
    "for i in range(1, 4):\n",
    "    x = f'//*[@id=\"__next\"]/div[2]/section/div/div[1]/div[3]/div[1]/div/div[1]/div/div[2]/div[1]/div/div/div[7]/div[4]/p[{i}]'\n",
    "    placement_description += driver.find_element(By.XPATH, x).text\n"
   ]
  },
  {
   "cell_type": "code",
   "execution_count": 57,
   "id": "ee463f17",
   "metadata": {},
   "outputs": [],
   "source": [
    "# FAQ\n",
    "all_faqs = {}\n",
    "q1 = driver.find_element(By.ID, 'docs-internal-guid-b9331917-7fff-c182-f1dc-f9479f8e7879')\n",
    "q1.click()\n",
    "all_faqs[\"Ques. \" + q1.text + \" ?\"] = driver.find_element(By.XPATH, '//*[@id=\"faq_id\"]/div[1]/p').text\n",
    "for i in range(2, 16):\n",
    "    q_x = f'//*[@id=\"faq_id\"]/p[{i}]/b'\n",
    "    q = driver.find_element(By.XPATH, q_x)\n",
    "    q.click()\n",
    "    a_x = f'//*[@id=\"faq_id\"]/div[{i}]/p'\n",
    "    a = driver.find_element(By.XPATH, a_x)\n",
    "    all_faqs[q.text] = a.text\n"
   ]
  },
  {
   "cell_type": "code",
   "execution_count": 58,
   "id": "ebfbe742",
   "metadata": {},
   "outputs": [],
   "source": [
    "# Harvard popular courses\n",
    "view_all_button1 = driver.find_element(By.XPATH, '//*[@id=\"__next\"]/div[2]/section/div/div[1]/div[3]/div[1]/div/div[3]/div/div[2]/div[2]/span').click()\n",
    "view_all_button2 = driver.find_element(By.XPATH, '//*[@id=\"__next\"]/div[2]/section/div/div[1]/div[3]/div[1]/div/div[3]/div/div[3]/div[2]/span').click()\n",
    "all_courses = driver.find_element(By.XPATH, '//*[@id=\"__next\"]/div[2]/section/div/div[1]/div[3]/div[1]/div/div[3]/div').text\n"
   ]
  },
  {
   "cell_type": "code",
   "execution_count": 59,
   "id": "0c88f3e2",
   "metadata": {},
   "outputs": [],
   "source": [
    "# overview\n",
    "all_courses_overview = {}\n",
    "for i in range(1, 7):\n",
    "    x_1 = f'//*[@id=\"__next\"]/div[2]/section/div/div[1]/div[3]/div[1]/div/div[4]/div[{i}]/div'\n",
    "    x_2 = f'//*[@id=\"__next\"]/div[2]/section/div/div[1]/div[3]/div[1]/div/div[4]/div[{i}]/div/div[1]/div[1]/div[1]/p/a'\n",
    "    course_description_overview = driver.find_element(By.XPATH, x_1).text\n",
    "    course = driver.find_element(By.XPATH, x_2)\n",
    "    name = course.text\n",
    "    course_link = course.get_attribute('href')\n",
    "    all_courses_overview[name] = [course_description_overview.replace('\\n', ''), {\"course link\": course_link}]"
   ]
  },
  {
   "cell_type": "code",
   "execution_count": 60,
   "id": "52ddf306",
   "metadata": {},
   "outputs": [],
   "source": [
    "# harvard student profiles\n",
    "all_profiles = {}\n",
    "for i in range(1, 5):\n",
    "    x_x = f'//*[@id=\"__next\"]/div[2]/section/div/div[1]/div[3]/div[1]/div/div[6]/div[2]/div/div[2]/div/div[{i}]/div/div/a/div'\n",
    "    x_x_1 = f'//*[@id=\"__next\"]/div[2]/section/div/div[1]/div[3]/div[1]/div/div[6]/div[2]/div/div[2]/div/div[{i}]/div/div/a/div/div[2]/div/div[1]'\n",
    "    profile_description = driver.find_element(By.XPATH, x_x).text\n",
    "    profile_name = driver.find_element(By.XPATH, x_x_1).text\n",
    "    all_profiles[profile_name] = [profile_description.replace('\\n', '')]"
   ]
  },
  {
   "cell_type": "code",
   "execution_count": 61,
   "id": "57991403",
   "metadata": {},
   "outputs": [],
   "source": [
    "# universal ranking\n",
    "universal_ranking_description = driver.find_element(By.XPATH, '//*[@id=\"ranking_scroll\"]/div[2]/div[1]/div/div[2]').text + '\\n' + driver.find_element(By.XPATH, '//*[@id=\"ranking_scroll\"]/div[3]/div/div/div[2]').text\n",
    "\n",
    "\n",
    "# rating\n",
    "rating_description = driver.find_element(By.XPATH, '//*[@id=\"__next\"]/div[2]/section/div/div[1]/div[3]/div[1]/div/div[8]/div[1]/div/div[2]').text"
   ]
  },
  {
   "cell_type": "code",
   "execution_count": 62,
   "id": "daab8ed8",
   "metadata": {},
   "outputs": [],
   "source": [
    "# reviews\n",
    "all_reviews = {}\n",
    "for i in range(3, 5):\n",
    "    a = f'//*[@id=\"__next\"]/div[2]/section/div/div[1]/div[3]/div[1]/div/div[8]/div[2]/div/div/div[{i}]/div[1]/div/div[1]/div[1]/a'\n",
    "    b = f'//*[@id=\"__next\"]/div[2]/section/div/div[1]/div[3]/div[1]/div/div[8]/div[2]/div/div/div[{i}]/div[1]/div/div[2]/span'\n",
    "    c = f'//*[@id=\"__next\"]/div[2]/section/div/div[1]/div[3]/div[1]/div/div[8]/div[2]/div/div/div[{i}]/div[2]/h3/a'\n",
    "    d = f'//*[@id=\"__next\"]/div[2]/section/div/div[1]/div[3]/div[1]/div/div[8]/div[2]/div/div/div[{i}]/div[3]'\n",
    "    reviewer_name = driver.find_element(By.XPATH, a)\n",
    "    rating=driver.find_element(By.XPATH, b)\n",
    "    comment_head = driver.find_element(By.XPATH, c)\n",
    "    comment_body = driver.find_element(By.XPATH, d)\n",
    "    all_reviews[reviewer_name.text] = {'rating': rating.text.replace(\"\\n\", ''), comment_head.text: comment_head.get_attribute('href'), 'comment': comment_body.text.replace(\"\\n\", '').removesuffix('Read More')}"
   ]
  },
  {
   "cell_type": "code",
   "execution_count": 63,
   "id": "0ec31b06",
   "metadata": {},
   "outputs": [],
   "source": [
    "# json conversion of the entire webpage elements\n",
    "data = {\n",
    "    'title': title,\n",
    "    Veda_Burman: info_of_veda,\n",
    "    ranking: ranking_description.replace(\"\\n\", ''),\n",
    "    'comparisons': comparisons,\n",
    "    'Harvard University (Spanish)': checkout_spanish,\n",
    "    'Harvard University Rankings comparison': ranking_comparison.replace(\"\\n\", ''),\n",
    "    'Harvard University Rankings': ranking_comparison_description,\n",
    "    'Harvard University Courses': course_description,\n",
    "    program_title: top_courses,\n",
    "    enrollment_title: [enrollment, enrollment_img],\n",
    "    admission_title: [admission_details, {'portals': portals}, admission_deadlines.replace(\"\\n\", '')],\n",
    "    requirements_title: requirements_data.replace(\"\\n\", ''),\n",
    "    'Admission links details': links,\n",
    "    campus_title: campus_description,\n",
    "    accommodation_title: [accommodation_description.replace(\"\\n\", ''), on_campus_residence.replace(\"\\n\", ''), off_campus_residence.replace(\"\\n\", '')],\n",
    "    attendance_title: [fee_structure1.replace(\"\\n\", ''), fee_structure2.replace(\"\\n\", '')],\n",
    "    scholarship_title: scholarship_description,\n",
    "    alumni_title: alumni_description.replace(\"\\n\", ''),\n",
    "    placement_title: placement_description,\n",
    "    'Harvard FAQs': all_faqs,\n",
    "    'Harvard University Popular Courses': all_courses,\n",
    "    'Harvard University Popular Course Overview': all_courses_overview,\n",
    "    'Harvard University Student Profiles': all_profiles,\n",
    "    'Harvard University Ranking': universal_ranking_description.replace(\"\\n\", ''),\n",
    "    'Harvard University Ratings': rating_description.replace(\"\\n\", ''),\n",
    "    'Harvard University Reviews': all_reviews\n",
    "}\n",
    "with open('myfile.json', 'w', encoding='utf8') as json_file:\n",
    "    json.dump(data, json_file, ensure_ascii=False)\n",
    "\n",
    "driver.quit()"
   ]
  },
  {
   "cell_type": "code",
   "execution_count": null,
   "id": "d81be568",
   "metadata": {},
   "outputs": [],
   "source": []
  }
 ],
 "metadata": {
  "kernelspec": {
   "display_name": "Python 3 (ipykernel)",
   "language": "python",
   "name": "python3"
  },
  "language_info": {
   "codemirror_mode": {
    "name": "ipython",
    "version": 3
   },
   "file_extension": ".py",
   "mimetype": "text/x-python",
   "name": "python",
   "nbconvert_exporter": "python",
   "pygments_lexer": "ipython3",
   "version": "3.10.6"
  }
 },
 "nbformat": 4,
 "nbformat_minor": 5
}
